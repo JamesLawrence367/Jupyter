{
 "cells": [
  {
   "attachments": {},
   "cell_type": "markdown",
   "metadata": {},
   "source": [
    "# Python Challenges\n",
    "## 1: Count from 1 to 10\n",
    "### Psuedocode \n",
    "<pre>\n",
    "BEGIN\n",
    "COUNT = 1\n",
    "while COUNT <= 10:\n",
    "print(COUNT)\n",
    "COUNT+=1\n",
    "</pre>\n",
    "### Python"
   ]
  },
  {
   "cell_type": "code",
   "execution_count": 1,
   "metadata": {},
   "outputs": [
    {
     "name": "stdout",
     "output_type": "stream",
     "text": [
      "[1, 2, 3, 4, 5, 6, 7, 8, 9, 10]\n"
     ]
    }
   ],
   "source": [
    "print(list(range(1,11)))"
   ]
  },
  {
   "cell_type": "markdown",
   "metadata": {},
   "source": [
    "## 1: Coins Challenge\n",
    "### Psuedocode \n",
    "<pre>\n",
    "BEGIN  \n",
    "COINS <- USERINPUT \n",
    "TYPES = []\n",
    "FUNC MONEY (AMOUNT)\n",
    "     IF COINS > AMOUNT THEN\n",
    "        COINS = COINS - AMOUNT\n",
    "        TYPES APPEND (AMOUNT)\n",
    "\n",
    "FUNC COINCALC (VALUE, NAME):\n",
    "    FOR I IN TYPES:\n",
    "        IF I = VALUE:\n",
    "        NAME = 0\n",
    "        NAME=+1\n",
    "        OUTPUT \"You have \" + NAME + \" \" + VALUE + \" Coins.\"\n",
    "\n",
    "WHILE COINS > 0.00 THEN\n",
    "    MONEY(1.00)\n",
    "    MONEY(.50)\n",
    "    MONEY(.20)\n",
    "    MONEY(.10)\n",
    "    MONEY(.05)\n",
    "    MONEY(.02)\n",
    "    MONEY(0.01)\n",
    "\n",
    "COINCALC(1.00, POUND)\n",
    "COINCALC(.50, FIFTYPENCE)\n",
    "COINCALC(.20, TWENTYPENCE)\n",
    "COINCALC(.10, TENPENCE)\n",
    "COINCALC(.05, FIVEPENCE)\n",
    "COINCALC(.02, TWOPENCE)\n",
    "COINCALC(.01, PENNY)\n",
    "</pre>\n",
    "### Python\n"
   ]
  },
  {
   "cell_type": "code",
   "execution_count": 2,
   "metadata": {},
   "outputs": [
    {
     "name": "stdout",
     "output_type": "stream",
     "text": [
      "[1.0, 0.5, 0.2, 0.1, 0.05, 0.02, 0.01]\n"
     ]
    }
   ],
   "source": [
    "money = float(input(\"Enter Your Money:\"))\n",
    "coinList = []\n",
    "coinType  = {\n",
    "    \"Pound\": 1.00,\n",
    "    \"FiftyPence\": 0.50,\n",
    "    \"TwentyPence\": 0.20,\n",
    "    \"TenPence\": 0.10,\n",
    "    \"FivePence\": 0.05,\n",
    "    \"TwoPence\": 0.02,\n",
    "    \"OnePence\": 0.01,\n",
    "}\n",
    "\n",
    "for coin in coinType.values():\n",
    "    if coin < money:\n",
    "        coinList.append(coin)\n",
    "        money -= coin\n",
    "print(coinList)"
   ]
  },
  {
   "cell_type": "code",
   "execution_count": 3,
   "metadata": {},
   "outputs": [
    {
     "name": "stdout",
     "output_type": "stream",
     "text": [
      "[10.0, 0.5, 0.2, 0.1, 0.05, 0.02, 0.01]\n"
     ]
    }
   ],
   "source": [
    "money = float(input(\"Enter Your Money:\"))\n",
    "moneyList = []\n",
    "moneyType  = {\n",
    "    \"HundredNote\": 100.00,\n",
    "    \"FiftyNote\": 50.00,\n",
    "    \"TwentyNote\": 20.00,\n",
    "    \"TenNote\": 10.00,\n",
    "    \"FiveNote\": 5.00,\n",
    "    \"TwoPound\": 2.00,\n",
    "    \"Pound\": 1.00,\n",
    "    \"FiftyPence\": 0.50,\n",
    "    \"TwentyPence\": 0.20,\n",
    "    \"TenPence\": 0.10,\n",
    "    \"FivePence\": 0.05,\n",
    "    \"TwoPence\": 0.02,\n",
    "    \"OnePence\": 0.01, \n",
    "}\n",
    "\n",
    "for val in moneyType.values():\n",
    "    if val < money:\n",
    "        moneyList.append(val)\n",
    "        money -= val\n",
    "print(moneyList)                                                                                                                                                                                                "
   ]
  },
  {
   "cell_type": "code",
   "execution_count": 6,
   "metadata": {},
   "outputs": [
    {
     "name": "stdout",
     "output_type": "stream",
     "text": [
      "£194.13\n"
     ]
    }
   ],
   "source": [
    "moneyType  = {\n",
    "    \"HundredPound\": 100.00,\n",
    "    \"FiftyNote\": 50.00,\n",
    "    \"TwentyNote\": 20.00,\n",
    "    \"TenNote\": 10.00,\n",
    "    \"FiveNote\": 5.00,\n",
    "    \"FivePound\": 5.00,\n",
    "    \"TwoPound\": 2.00,\n",
    "    \"Pound\": 1.00,\n",
    "    \"FiftyPence\": 0.50,\n",
    "    \"TwentyFivePence\": 0.25,\n",
    "    \"TwentyPence\": 0.20,\n",
    "    \"TenPence\": 0.10,\n",
    "    \"FivePence\": 0.05,\n",
    "    \"TwoPence\": 0.02,                                                                                                                                       \n",
    "    \"OnePence\": 0.01,\n",
    "}\n",
    "total=0\n",
    "for val in moneyType.values():\n",
    "    total = total + val\n",
    "print(\"£\" + str(total))"
   ]
  }
 ],
 "metadata": {
  "kernelspec": {
   "display_name": "Python 3",
   "language": "python",
   "name": "python3"
  },
  "language_info": {
   "codemirror_mode": {
    "name": "ipython",
    "version": 3
   },
   "file_extension": ".py",
   "mimetype": "text/x-python",
   "name": "python",
   "nbconvert_exporter": "python",
   "pygments_lexer": "ipython3",
   "version": "3.11.3"
  },
  "orig_nbformat": 4,
  "vscode": {
   "interpreter": {
    "hash": "5238573367df39f7286bb46f9ff5f08f63a01a80960060ce41e3c79b190280fa"
   }
  }
 },
 "nbformat": 4,
 "nbformat_minor": 2
}
