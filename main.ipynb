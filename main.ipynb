{
 "cells": [
  {
   "attachments": {},
   "cell_type": "markdown",
   "metadata": {},
   "source": [
    "# Computer Science 101\n",
    "## Essentials Features of Programming Languages\n",
    "### Sequence, Branching, Iteration"
   ]
  },
  {
   "attachments": {},
   "cell_type": "markdown",
   "metadata": {},
   "source": [
    "1. Sequence\n",
    "Sequence is simply the idea that program statements are executed in a defined, predictable, repeatable  order.\n",
    "\n",
    "The simplest case is top-to-bottom, starting at the first line, keep going until the end, stop."
   ]
  },
  {
   "cell_type": "code",
   "execution_count": null,
   "metadata": {},
   "outputs": [],
   "source": [
    "a = \"Good\"\n",
    "b = \"Morning\"\n",
    "c = \"James\"\n",
    "print(f\"{a} {b}, {c}\")"
   ]
  },
  {
   "attachments": {},
   "cell_type": "markdown",
   "metadata": {},
   "source": [
    "The above example only produces the expected output because the instructions are executed top-to-bottom.  \n",
    "Most practical languages extend this concept a little, they have a `flow` which is predetermined but may not match the actual order in the source code e.g functions."
   ]
  },
  {
   "cell_type": "code",
   "execution_count": null,
   "metadata": {},
   "outputs": [],
   "source": [
    "def greet(name):\n",
    "    print(f\"Good Morning, {name}\")\n",
    "\n",
    "greet(\"James\")"
   ]
  },
  {
   "attachments": {},
   "cell_type": "markdown",
   "metadata": {},
   "source": [
    "2. Selection \n",
    "Selection means something like the conditional execution of code, the code to be executed is `selected` based upon some condition.  \n",
    "All that is needed for this is an if-statement (or some equivalent of that)."
   ]
  },
  {
   "cell_type": "code",
   "execution_count": null,
   "metadata": {},
   "outputs": [],
   "source": [
    "import random\n",
    "a = bool(random.randint(0,1))\n",
    "\n",
    "if a:\n",
    "    print(\"A is True\")\n",
    "\n",
    "else:\n",
    "    print(\"A is False\")"
   ]
  },
  {
   "attachments": {},
   "cell_type": "markdown",
   "metadata": {},
   "source": [
    "Most programming languages off if-else or if-elseif-else for convenience.  "
   ]
  },
  {
   "cell_type": "code",
   "execution_count": null,
   "metadata": {},
   "outputs": [],
   "source": [
    "import random\n",
    "a = bool(random.randint(0,1))\n",
    "\n",
    "if a:\n",
    "    print(\"A is True\")\n",
    "\n",
    "elif not a:\n",
    "\n",
    "    print(\"A is False\")"
   ]
  },
  {
   "attachments": {},
   "cell_type": "markdown",
   "metadata": {},
   "source": [
    "Many programming languages offer other constructs as well, all just for convenience."
   ]
  },
  {
   "cell_type": "code",
   "execution_count": null,
   "metadata": {},
   "outputs": [],
   "source": [
    "import random\n",
    "a = bool(random.randint(0,1))\n",
    "\n",
    "print(\"True\" if a else \"False\")"
   ]
  },
  {
   "cell_type": "code",
   "execution_count": null,
   "metadata": {},
   "outputs": [],
   "source": [
    "import random\n",
    "a = bool(random.randint(0,1))\n",
    "\n",
    "match a:\n",
    "    case True:\n",
    "        print(\"True\")\n",
    "    case False:\n",
    "        print(\"False\")"
   ]
  },
  {
   "attachments": {},
   "cell_type": "markdown",
   "metadata": {},
   "source": [
    "3. Iteration\n",
    "Iteration is the capability of doing an operation multiple times, It is only `necessary` that this can be for a known, number of times, but most programming languages allow execution until some condition is met (for convenience)."
   ]
  },
  {
   "cell_type": "code",
   "execution_count": null,
   "metadata": {},
   "outputs": [],
   "source": [
    "for x in range(10):\n",
    "    print(x)"
   ]
  },
  {
   "attachments": {},
   "cell_type": "markdown",
   "metadata": {},
   "source": [
    "Most programming languages have many different constructs for iteration. "
   ]
  },
  {
   "cell_type": "code",
   "execution_count": null,
   "metadata": {},
   "outputs": [],
   "source": [
    "S = \"Hello\"\n",
    "for char in S:\n",
    "    print(char)"
   ]
  },
  {
   "cell_type": "code",
   "execution_count": null,
   "metadata": {},
   "outputs": [],
   "source": [
    "i = 0\n",
    "while i < 10:\n",
    "    print(i)\n",
    "    i += 1"
   ]
  }
 ],
 "metadata": {
  "kernelspec": {
   "display_name": "Python 3",
   "language": "python",
   "name": "python3"
  },
  "language_info": {
   "codemirror_mode": {
    "name": "ipython",
    "version": 3
   },
   "file_extension": ".py",
   "mimetype": "text/x-python",
   "name": "python",
   "nbconvert_exporter": "python",
   "pygments_lexer": "ipython3",
   "version": "3.11.3 (tags/v3.11.3:f3909b8, Apr  4 2023, 23:49:59) [MSC v.1934 64 bit (AMD64)]"
  },
  "orig_nbformat": 4,
  "vscode": {
   "interpreter": {
    "hash": "5238573367df39f7286bb46f9ff5f08f63a01a80960060ce41e3c79b190280fa"
   }
  }
 },
 "nbformat": 4,
 "nbformat_minor": 2
}
